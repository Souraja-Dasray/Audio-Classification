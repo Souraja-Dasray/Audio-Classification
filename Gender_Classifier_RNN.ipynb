{
 "cells": [
  {
   "cell_type": "code",
   "execution_count": 1,
   "id": "27d665b0",
   "metadata": {},
   "outputs": [],
   "source": [
    "import pandas as pd\n",
    "import os\n",
    "import librosa\n",
    "import librosa.display\n",
    "import matplotlib.pyplot as plt\n",
    "from sklearn.model_selection import train_test_split\n",
    "from sklearn.preprocessing import normalize\n",
    "import warnings\n",
    "warnings.filterwarnings('ignore')\n",
    "from sklearn.model_selection import train_test_split\n",
    "import tensorflow\n",
    "from tensorflow.keras.layers import LSTM, Dense"
   ]
  },
  {
   "cell_type": "code",
   "execution_count": 2,
   "id": "81450eb5",
   "metadata": {},
   "outputs": [
    {
     "data": {
      "text/html": [
       "<div>\n",
       "<style scoped>\n",
       "    .dataframe tbody tr th:only-of-type {\n",
       "        vertical-align: middle;\n",
       "    }\n",
       "\n",
       "    .dataframe tbody tr th {\n",
       "        vertical-align: top;\n",
       "    }\n",
       "\n",
       "    .dataframe thead th {\n",
       "        text-align: right;\n",
       "    }\n",
       "</style>\n",
       "<table border=\"1\" class=\"dataframe\">\n",
       "  <thead>\n",
       "    <tr style=\"text-align: right;\">\n",
       "      <th></th>\n",
       "      <th>age</th>\n",
       "      <th>age_onset</th>\n",
       "      <th>birthplace</th>\n",
       "      <th>filename</th>\n",
       "      <th>native_language</th>\n",
       "      <th>sex</th>\n",
       "      <th>speakerid</th>\n",
       "      <th>country</th>\n",
       "      <th>file_missing?</th>\n",
       "      <th>Unnamed: 9</th>\n",
       "      <th>Unnamed: 10</th>\n",
       "      <th>Unnamed: 11</th>\n",
       "    </tr>\n",
       "  </thead>\n",
       "  <tbody>\n",
       "    <tr>\n",
       "      <th>0</th>\n",
       "      <td>24.0</td>\n",
       "      <td>12.0</td>\n",
       "      <td>koussi, senegal</td>\n",
       "      <td>balanta</td>\n",
       "      <td>balanta</td>\n",
       "      <td>male</td>\n",
       "      <td>788</td>\n",
       "      <td>senegal</td>\n",
       "      <td>True</td>\n",
       "      <td>NaN</td>\n",
       "      <td>NaN</td>\n",
       "      <td>NaN</td>\n",
       "    </tr>\n",
       "    <tr>\n",
       "      <th>1</th>\n",
       "      <td>18.0</td>\n",
       "      <td>10.0</td>\n",
       "      <td>buea, cameroon</td>\n",
       "      <td>cameroon</td>\n",
       "      <td>cameroon</td>\n",
       "      <td>male</td>\n",
       "      <td>1953</td>\n",
       "      <td>cameroon</td>\n",
       "      <td>True</td>\n",
       "      <td>NaN</td>\n",
       "      <td>NaN</td>\n",
       "      <td>NaN</td>\n",
       "    </tr>\n",
       "    <tr>\n",
       "      <th>2</th>\n",
       "      <td>48.0</td>\n",
       "      <td>8.0</td>\n",
       "      <td>hong, adamawa, nigeria</td>\n",
       "      <td>fulfulde</td>\n",
       "      <td>fulfulde</td>\n",
       "      <td>male</td>\n",
       "      <td>1037</td>\n",
       "      <td>nigeria</td>\n",
       "      <td>True</td>\n",
       "      <td>NaN</td>\n",
       "      <td>NaN</td>\n",
       "      <td>NaN</td>\n",
       "    </tr>\n",
       "    <tr>\n",
       "      <th>3</th>\n",
       "      <td>42.0</td>\n",
       "      <td>42.0</td>\n",
       "      <td>port-au-prince, haiti</td>\n",
       "      <td>haitian</td>\n",
       "      <td>haitian</td>\n",
       "      <td>male</td>\n",
       "      <td>1165</td>\n",
       "      <td>haiti</td>\n",
       "      <td>True</td>\n",
       "      <td>NaN</td>\n",
       "      <td>NaN</td>\n",
       "      <td>NaN</td>\n",
       "    </tr>\n",
       "    <tr>\n",
       "      <th>4</th>\n",
       "      <td>40.0</td>\n",
       "      <td>35.0</td>\n",
       "      <td>port-au-prince, haiti</td>\n",
       "      <td>haitian</td>\n",
       "      <td>haitian</td>\n",
       "      <td>male</td>\n",
       "      <td>1166</td>\n",
       "      <td>haiti</td>\n",
       "      <td>True</td>\n",
       "      <td>NaN</td>\n",
       "      <td>NaN</td>\n",
       "      <td>NaN</td>\n",
       "    </tr>\n",
       "  </tbody>\n",
       "</table>\n",
       "</div>"
      ],
      "text/plain": [
       "    age  age_onset              birthplace  filename native_language   sex  \\\n",
       "0  24.0       12.0         koussi, senegal   balanta         balanta  male   \n",
       "1  18.0       10.0          buea, cameroon  cameroon        cameroon  male   \n",
       "2  48.0        8.0  hong, adamawa, nigeria  fulfulde        fulfulde  male   \n",
       "3  42.0       42.0   port-au-prince, haiti   haitian         haitian  male   \n",
       "4  40.0       35.0   port-au-prince, haiti   haitian         haitian  male   \n",
       "\n",
       "   speakerid   country  file_missing?  Unnamed: 9  Unnamed: 10 Unnamed: 11  \n",
       "0        788   senegal           True         NaN          NaN         NaN  \n",
       "1       1953  cameroon           True         NaN          NaN         NaN  \n",
       "2       1037   nigeria           True         NaN          NaN         NaN  \n",
       "3       1165     haiti           True         NaN          NaN         NaN  \n",
       "4       1166     haiti           True         NaN          NaN         NaN  "
      ]
     },
     "execution_count": 2,
     "metadata": {},
     "output_type": "execute_result"
    }
   ],
   "source": [
    "df = pd.read_csv('speakers_all.csv')\n",
    "df.head()"
   ]
  },
  {
   "cell_type": "code",
   "execution_count": 3,
   "id": "2c80d1de",
   "metadata": {},
   "outputs": [
    {
     "data": {
      "text/plain": [
       "(2138, 12)"
      ]
     },
     "execution_count": 3,
     "metadata": {},
     "output_type": "execute_result"
    }
   ],
   "source": [
    "path='recordings/recordings/'\n",
    "df = df[df['file_missing?'] != True]\n",
    "df.shape"
   ]
  },
  {
   "cell_type": "code",
   "execution_count": 5,
   "id": "4c502008",
   "metadata": {},
   "outputs": [
    {
     "data": {
      "text/plain": [
       "<matplotlib.collections.QuadMesh at 0x1d09b6d2550>"
      ]
     },
     "execution_count": 5,
     "metadata": {},
     "output_type": "execute_result"
    },
    {
     "data": {
      "image/png": "[encoded data removed]",
      "text/plain": [
       "<Figure size 432x288 with 1 Axes>"
      ]
     },
     "metadata": {
      "needs_background": "light"
     },
     "output_type": "display_data"
    }
   ],
   "source": [
    "y, sr = librosa.load('recordings/recordings/english385.mp3', duration=10.0)\n",
    "ps = librosa.feature.melspectrogram(y=y, sr=sr)\n",
    "librosa.display.specshow(ps, y_axis='mel', x_axis='time')"
   ]
  },
  {
   "cell_type": "code",
   "execution_count": 6,
   "id": "3707fdd9",
   "metadata": {},
   "outputs": [
    {
     "data": {
      "text/plain": [
       "(128, 431)"
      ]
     },
     "execution_count": 6,
     "metadata": {},
     "output_type": "execute_result"
    }
   ],
   "source": [
    "ps.shape"
   ]
  },
  {
   "cell_type": "code",
   "execution_count": 7,
   "id": "503b27fc",
   "metadata": {},
   "outputs": [
    {
     "name": "stderr",
     "output_type": "stream",
     "text": [
      "2138it [22:36,  1.58it/s]\n"
     ]
    }
   ],
   "source": [
    "import numpy as np\n",
    "from tqdm import tqdm\n",
    "\n",
    "D = [] # Dataset\n",
    "\n",
    "for index_num,row in tqdm(df.iterrows()):\n",
    "    file_name = 'recordings/recordings/' + str(row[\"filename\"]) + '.mp3'\n",
    "    y, sr = librosa.load(file_name, duration=10.0)  \n",
    "    ps = librosa.feature.melspectrogram(y=y, sr=sr)\n",
    "    if ps.shape != (128, 431): continue\n",
    "    D.append( (ps, row[\"sex\"]) )"
   ]
  },
  {
   "cell_type": "code",
   "execution_count": 8,
   "id": "22388e2e",
   "metadata": {},
   "outputs": [
    {
     "data": {
      "text/html": [
       "<div>\n",
       "<style scoped>\n",
       "    .dataframe tbody tr th:only-of-type {\n",
       "        vertical-align: middle;\n",
       "    }\n",
       "\n",
       "    .dataframe tbody tr th {\n",
       "        vertical-align: top;\n",
       "    }\n",
       "\n",
       "    .dataframe thead th {\n",
       "        text-align: right;\n",
       "    }\n",
       "</style>\n",
       "<table border=\"1\" class=\"dataframe\">\n",
       "  <thead>\n",
       "    <tr style=\"text-align: right;\">\n",
       "      <th></th>\n",
       "      <th>feature</th>\n",
       "      <th>class</th>\n",
       "    </tr>\n",
       "  </thead>\n",
       "  <tbody>\n",
       "    <tr>\n",
       "      <th>0</th>\n",
       "      <td>[[0.09874383, 0.2513699, 0.25507128, 0.2234160...</td>\n",
       "      <td>female</td>\n",
       "    </tr>\n",
       "    <tr>\n",
       "      <th>1</th>\n",
       "      <td>[[2.1711987e-06, 2.455684e-06, 2.3796056e-06, ...</td>\n",
       "      <td>male</td>\n",
       "    </tr>\n",
       "    <tr>\n",
       "      <th>2</th>\n",
       "      <td>[[0.0062513114, 0.005870834, 0.0032840488, 0.0...</td>\n",
       "      <td>male</td>\n",
       "    </tr>\n",
       "    <tr>\n",
       "      <th>3</th>\n",
       "      <td>[[0.00051681005, 0.00050841906, 0.00052578124,...</td>\n",
       "      <td>male</td>\n",
       "    </tr>\n",
       "    <tr>\n",
       "      <th>4</th>\n",
       "      <td>[[0.595527, 2.6488352, 4.0519133, 2.793845, 0....</td>\n",
       "      <td>male</td>\n",
       "    </tr>\n",
       "  </tbody>\n",
       "</table>\n",
       "</div>"
      ],
      "text/plain": [
       "                                             feature   class\n",
       "0  [[0.09874383, 0.2513699, 0.25507128, 0.2234160...  female\n",
       "1  [[2.1711987e-06, 2.455684e-06, 2.3796056e-06, ...    male\n",
       "2  [[0.0062513114, 0.005870834, 0.0032840488, 0.0...    male\n",
       "3  [[0.00051681005, 0.00050841906, 0.00052578124,...    male\n",
       "4  [[0.595527, 2.6488352, 4.0519133, 2.793845, 0....    male"
      ]
     },
     "execution_count": 8,
     "metadata": {},
     "output_type": "execute_result"
    }
   ],
   "source": [
    "extracted_features_df=pd.DataFrame(D,columns=['feature','class'])\n",
    "extracted_features_df.head()"
   ]
  },
  {
   "cell_type": "code",
   "execution_count": 9,
   "id": "14c93f7d",
   "metadata": {},
   "outputs": [],
   "source": [
    "extracted_features_df.to_csv('MFSG_Extracted_features.csv', index=False)"
   ]
  },
  {
   "cell_type": "code",
   "execution_count": 19,
   "id": "96fc3017",
   "metadata": {},
   "outputs": [],
   "source": [
    "import random\n",
    "\n",
    "dataset = D\n",
    "random.shuffle(dataset)\n",
    "\n",
    "train = dataset[:2000]\n",
    "test = dataset[2000:]\n",
    "\n",
    "X_train, y_train = zip(*train)\n",
    "X_test, y_test = zip(*test)\n",
    "\n",
    "# Reshape for CNN input\n",
    "X_train = np.array(X_train)\n",
    "X_test = np.array(X_test)"
   ]
  },
  {
   "cell_type": "code",
   "execution_count": 20,
   "id": "6bfc94e3",
   "metadata": {},
   "outputs": [],
   "source": [
    "from tensorflow.keras.utils import to_categorical\n",
    "from sklearn.preprocessing import LabelEncoder\n",
    "labelencoder=LabelEncoder()\n",
    "#y=to_categorical(labelencoder.fit_transform(y))\n",
    "#y\n",
    "y_train = np.array(to_categorical(labelencoder.fit_transform(y_train)))\n",
    "y_test = np.array(to_categorical(labelencoder.fit_transform(y_test)))"
   ]
  },
  {
   "cell_type": "code",
   "execution_count": 21,
   "id": "4ebdb317",
   "metadata": {},
   "outputs": [
    {
     "data": {
      "text/plain": [
       "((2000, 128, 431), (138, 128, 431), (2000, 2), (138, 2))"
      ]
     },
     "execution_count": 21,
     "metadata": {},
     "output_type": "execute_result"
    }
   ],
   "source": [
    "X_train.shape,X_test.shape,y_train.shape,y_test.shape"
   ]
  },
  {
   "cell_type": "code",
   "execution_count": 23,
   "id": "272eb944",
   "metadata": {},
   "outputs": [
    {
     "name": "stdout",
     "output_type": "stream",
     "text": [
      "Model: \"sequential_2\"\n",
      "_________________________________________________________________\n",
      "Layer (type)                 Output Shape              Param #   \n",
      "=================================================================\n",
      "lstm_2 (LSTM)                (None, 128)               286720    \n",
      "_________________________________________________________________\n",
      "module_wrapper (ModuleWrappe (None, 128)               0         \n",
      "_________________________________________________________________\n",
      "module_wrapper_1 (ModuleWrap (None, 128)               16512     \n",
      "_________________________________________________________________\n",
      "module_wrapper_2 (ModuleWrap (None, 64)                8256      \n",
      "_________________________________________________________________\n",
      "module_wrapper_3 (ModuleWrap (None, 64)                0         \n",
      "_________________________________________________________________\n",
      "module_wrapper_4 (ModuleWrap (None, 48)                3120      \n",
      "_________________________________________________________________\n",
      "module_wrapper_5 (ModuleWrap (None, 48)                0         \n",
      "_________________________________________________________________\n",
      "module_wrapper_6 (ModuleWrap (None, 2)                 98        \n",
      "=================================================================\n",
      "Total params: 314,706\n",
      "Trainable params: 314,706\n",
      "Non-trainable params: 0\n",
      "_________________________________________________________________\n"
     ]
    }
   ],
   "source": [
    "import tensorflow.keras as keras\n",
    "from keras.layers import Activation, Dense, Dropout, Conv2D, \\\n",
    "                         Flatten, MaxPooling2D\n",
    "\n",
    "input_shape=(128,431)\n",
    "\n",
    "model = keras.Sequential()\n",
    "model.add(LSTM(128,input_shape=input_shape))\n",
    "model.add(Dropout(0.2))\n",
    "model.add(Dense(128, activation='relu'))\n",
    "model.add(Dense(64, activation='relu'))\n",
    "model.add(Dropout(0.4))\n",
    "model.add(Dense(48, activation='relu'))\n",
    "model.add(Dropout(0.4))\n",
    "model.add(Dense(2, activation='softmax'))\n",
    "\n",
    "model.summary()"
   ]
  },
  {
   "cell_type": "code",
   "execution_count": 32,
   "id": "26a5f717",
   "metadata": {},
   "outputs": [
    {
     "name": "stdout",
     "output_type": "stream",
     "text": [
      "Epoch 1/50\n",
      "63/63 [==============================] - 9s 109ms/step - loss: 0.0992 - accuracy: 0.9710 - val_loss: 1.7801 - val_accuracy: 0.6377\n",
      "\n",
      "Epoch 00001: saving model to saved models\\Gender_Classifier_RNN.hdf5\n",
      "Epoch 2/50\n",
      "63/63 [==============================] - 7s 113ms/step - loss: 0.0451 - accuracy: 0.9850 - val_loss: 2.4573 - val_accuracy: 0.5652\n",
      "\n",
      "Epoch 00002: saving model to saved models\\Gender_Classifier_RNN.hdf5\n",
      "Epoch 3/50\n",
      "63/63 [==============================] - 9s 143ms/step - loss: 0.0254 - accuracy: 0.9950 - val_loss: 2.6366 - val_accuracy: 0.5942\n",
      "\n",
      "Epoch 00003: saving model to saved models\\Gender_Classifier_RNN.hdf5\n",
      "Epoch 4/50\n",
      "63/63 [==============================] - 10s 151ms/step - loss: 0.0253 - accuracy: 0.9925 - val_loss: 3.1376 - val_accuracy: 0.5580\n",
      "\n",
      "Epoch 00004: saving model to saved models\\Gender_Classifier_RNN.hdf5\n",
      "Epoch 5/50\n",
      "63/63 [==============================] - 9s 150ms/step - loss: 0.0533 - accuracy: 0.9830 - val_loss: 2.2400 - val_accuracy: 0.5652\n",
      "\n",
      "Epoch 00005: saving model to saved models\\Gender_Classifier_RNN.hdf5\n",
      "Epoch 6/50\n",
      "63/63 [==============================] - 9s 147ms/step - loss: 0.0713 - accuracy: 0.9795 - val_loss: 1.9787 - val_accuracy: 0.5797\n",
      "\n",
      "Epoch 00006: saving model to saved models\\Gender_Classifier_RNN.hdf5\n",
      "Epoch 7/50\n",
      "63/63 [==============================] - 10s 154ms/step - loss: 0.0548 - accuracy: 0.9820 - val_loss: 2.5050 - val_accuracy: 0.6087\n",
      "\n",
      "Epoch 00007: saving model to saved models\\Gender_Classifier_RNN.hdf5\n",
      "Epoch 8/50\n",
      "63/63 [==============================] - 9s 144ms/step - loss: 0.0357 - accuracy: 0.9905 - val_loss: 2.5327 - val_accuracy: 0.5217\n",
      "\n",
      "Epoch 00008: saving model to saved models\\Gender_Classifier_RNN.hdf5\n",
      "Epoch 9/50\n",
      "63/63 [==============================] - 10s 152ms/step - loss: 0.0393 - accuracy: 0.9885 - val_loss: 2.9382 - val_accuracy: 0.5797\n",
      "\n",
      "Epoch 00009: saving model to saved models\\Gender_Classifier_RNN.hdf5\n",
      "Epoch 10/50\n",
      "63/63 [==============================] - 9s 145ms/step - loss: 0.0634 - accuracy: 0.9840 - val_loss: 2.2442 - val_accuracy: 0.6449\n",
      "\n",
      "Epoch 00010: saving model to saved models\\Gender_Classifier_RNN.hdf5\n",
      "Epoch 11/50\n",
      "63/63 [==============================] - 9s 142ms/step - loss: 0.0283 - accuracy: 0.9905 - val_loss: 2.8869 - val_accuracy: 0.5942\n",
      "\n",
      "Epoch 00011: saving model to saved models\\Gender_Classifier_RNN.hdf5\n",
      "Epoch 12/50\n",
      "63/63 [==============================] - 9s 144ms/step - loss: 0.0294 - accuracy: 0.9900 - val_loss: 3.0101 - val_accuracy: 0.6232\n",
      "\n",
      "Epoch 00012: saving model to saved models\\Gender_Classifier_RNN.hdf5\n",
      "Epoch 13/50\n",
      "63/63 [==============================] - 9s 140ms/step - loss: 0.0244 - accuracy: 0.9920 - val_loss: 3.0285 - val_accuracy: 0.6014\n",
      "\n",
      "Epoch 00013: saving model to saved models\\Gender_Classifier_RNN.hdf5\n",
      "Epoch 14/50\n",
      "63/63 [==============================] - 9s 150ms/step - loss: 0.0326 - accuracy: 0.9900 - val_loss: 2.9396 - val_accuracy: 0.5942\n",
      "\n",
      "Epoch 00014: saving model to saved models\\Gender_Classifier_RNN.hdf5\n",
      "Epoch 15/50\n",
      "63/63 [==============================] - 9s 144ms/step - loss: 0.0313 - accuracy: 0.9895 - val_loss: 3.3705 - val_accuracy: 0.6377\n",
      "\n",
      "Epoch 00015: saving model to saved models\\Gender_Classifier_RNN.hdf5\n",
      "Epoch 16/50\n",
      "63/63 [==============================] - 9s 146ms/step - loss: 0.0136 - accuracy: 0.9960 - val_loss: 3.0161 - val_accuracy: 0.6232\n",
      "\n",
      "Epoch 00016: saving model to saved models\\Gender_Classifier_RNN.hdf5\n",
      "Epoch 17/50\n",
      "63/63 [==============================] - 9s 144ms/step - loss: 0.0067 - accuracy: 0.9985 - val_loss: 3.4535 - val_accuracy: 0.6522\n",
      "\n",
      "Epoch 00017: saving model to saved models\\Gender_Classifier_RNN.hdf5\n",
      "Epoch 18/50\n",
      "63/63 [==============================] - 9s 144ms/step - loss: 0.0632 - accuracy: 0.9800 - val_loss: 2.2064 - val_accuracy: 0.6884\n",
      "\n",
      "Epoch 00018: saving model to saved models\\Gender_Classifier_RNN.hdf5\n",
      "Epoch 19/50\n",
      "63/63 [==============================] - 9s 145ms/step - loss: 0.0044 - accuracy: 0.9990 - val_loss: 3.1042 - val_accuracy: 0.6739\n",
      "\n",
      "Epoch 00019: saving model to saved models\\Gender_Classifier_RNN.hdf5\n",
      "Epoch 20/50\n",
      "63/63 [==============================] - 9s 142ms/step - loss: 0.0028 - accuracy: 0.9990 - val_loss: 3.5494 - val_accuracy: 0.6377\n",
      "\n",
      "Epoch 00020: saving model to saved models\\Gender_Classifier_RNN.hdf5\n",
      "Epoch 21/50\n",
      "63/63 [==============================] - 9s 145ms/step - loss: 0.0017 - accuracy: 0.9995 - val_loss: 3.9614 - val_accuracy: 0.6522\n",
      "\n",
      "Epoch 00021: saving model to saved models\\Gender_Classifier_RNN.hdf5\n",
      "Epoch 22/50\n",
      "63/63 [==============================] - 9s 148ms/step - loss: 0.0160 - accuracy: 0.9965 - val_loss: 2.8801 - val_accuracy: 0.6667\n",
      "\n",
      "Epoch 00022: saving model to saved models\\Gender_Classifier_RNN.hdf5\n",
      "Epoch 23/50\n",
      "63/63 [==============================] - 9s 145ms/step - loss: 0.0563 - accuracy: 0.9815 - val_loss: 3.3092 - val_accuracy: 0.6087\n",
      "\n",
      "Epoch 00023: saving model to saved models\\Gender_Classifier_RNN.hdf5\n",
      "Epoch 24/50\n",
      "63/63 [==============================] - 9s 147ms/step - loss: 0.0247 - accuracy: 0.9940 - val_loss: 2.8335 - val_accuracy: 0.6087\n",
      "\n",
      "Epoch 00024: saving model to saved models\\Gender_Classifier_RNN.hdf5\n",
      "Epoch 25/50\n",
      "63/63 [==============================] - 9s 144ms/step - loss: 0.0173 - accuracy: 0.9965 - val_loss: 3.0650 - val_accuracy: 0.6014\n",
      "\n",
      "Epoch 00025: saving model to saved models\\Gender_Classifier_RNN.hdf5\n",
      "Epoch 26/50\n",
      "63/63 [==============================] - 9s 145ms/step - loss: 0.0235 - accuracy: 0.9935 - val_loss: 2.8528 - val_accuracy: 0.6812\n",
      "\n",
      "Epoch 00026: saving model to saved models\\Gender_Classifier_RNN.hdf5\n",
      "Epoch 27/50\n",
      "63/63 [==============================] - 9s 145ms/step - loss: 0.0784 - accuracy: 0.9735 - val_loss: 2.4844 - val_accuracy: 0.6449\n",
      "\n",
      "Epoch 00027: saving model to saved models\\Gender_Classifier_RNN.hdf5\n",
      "Epoch 28/50\n",
      "63/63 [==============================] - 9s 150ms/step - loss: 0.0806 - accuracy: 0.9690 - val_loss: 1.9846 - val_accuracy: 0.6449\n",
      "\n",
      "Epoch 00028: saving model to saved models\\Gender_Classifier_RNN.hdf5\n",
      "Epoch 29/50\n",
      "63/63 [==============================] - 9s 145ms/step - loss: 0.0434 - accuracy: 0.9840 - val_loss: 2.6226 - val_accuracy: 0.6232\n",
      "\n",
      "Epoch 00029: saving model to saved models\\Gender_Classifier_RNN.hdf5\n",
      "Epoch 30/50\n",
      "63/63 [==============================] - 9s 145ms/step - loss: 0.0174 - accuracy: 0.9955 - val_loss: 2.9957 - val_accuracy: 0.6377\n",
      "\n",
      "Epoch 00030: saving model to saved models\\Gender_Classifier_RNN.hdf5\n",
      "Epoch 31/50\n",
      "63/63 [==============================] - 9s 144ms/step - loss: 0.0076 - accuracy: 0.9980 - val_loss: 2.9388 - val_accuracy: 0.6232\n",
      "\n",
      "Epoch 00031: saving model to saved models\\Gender_Classifier_RNN.hdf5\n",
      "Epoch 32/50\n",
      "63/63 [==============================] - 9s 144ms/step - loss: 0.0022 - accuracy: 0.9990 - val_loss: 3.4121 - val_accuracy: 0.6232\n",
      "\n",
      "Epoch 00032: saving model to saved models\\Gender_Classifier_RNN.hdf5\n",
      "Epoch 33/50\n",
      "63/63 [==============================] - 9s 145ms/step - loss: 0.0038 - accuracy: 0.9985 - val_loss: 3.4810 - val_accuracy: 0.6449\n",
      "\n",
      "Epoch 00033: saving model to saved models\\Gender_Classifier_RNN.hdf5\n",
      "Epoch 34/50\n",
      "63/63 [==============================] - 9s 142ms/step - loss: 4.1188e-04 - accuracy: 1.0000 - val_loss: 3.9059 - val_accuracy: 0.6232\n",
      "\n",
      "Epoch 00034: saving model to saved models\\Gender_Classifier_RNN.hdf5\n",
      "Epoch 35/50\n",
      "63/63 [==============================] - 9s 145ms/step - loss: 6.8511e-04 - accuracy: 1.0000 - val_loss: 3.6652 - val_accuracy: 0.6377\n",
      "\n",
      "Epoch 00035: saving model to saved models\\Gender_Classifier_RNN.hdf5\n",
      "Epoch 36/50\n",
      "63/63 [==============================] - 9s 142ms/step - loss: 1.5968e-04 - accuracy: 1.0000 - val_loss: 3.7965 - val_accuracy: 0.6377\n",
      "\n",
      "Epoch 00036: saving model to saved models\\Gender_Classifier_RNN.hdf5\n",
      "Epoch 37/50\n",
      "63/63 [==============================] - 9s 150ms/step - loss: 3.2689e-04 - accuracy: 1.0000 - val_loss: 3.7311 - val_accuracy: 0.6304\n",
      "\n",
      "Epoch 00037: saving model to saved models\\Gender_Classifier_RNN.hdf5\n",
      "Epoch 38/50\n",
      "63/63 [==============================] - 9s 144ms/step - loss: 1.2224e-04 - accuracy: 1.0000 - val_loss: 3.8083 - val_accuracy: 0.6377\n",
      "\n",
      "Epoch 00038: saving model to saved models\\Gender_Classifier_RNN.hdf5\n",
      "Epoch 39/50\n"
     ]
    },
    {
     "name": "stdout",
     "output_type": "stream",
     "text": [
      "63/63 [==============================] - 9s 147ms/step - loss: 9.4713e-05 - accuracy: 1.0000 - val_loss: 3.9140 - val_accuracy: 0.6449\n",
      "\n",
      "Epoch 00039: saving model to saved models\\Gender_Classifier_RNN.hdf5\n",
      "Epoch 40/50\n",
      "63/63 [==============================] - 9s 146ms/step - loss: 4.0002e-05 - accuracy: 1.0000 - val_loss: 3.9835 - val_accuracy: 0.6449\n",
      "\n",
      "Epoch 00040: saving model to saved models\\Gender_Classifier_RNN.hdf5\n",
      "Epoch 41/50\n",
      "63/63 [==============================] - 9s 146ms/step - loss: 1.2005e-04 - accuracy: 1.0000 - val_loss: 4.0548 - val_accuracy: 0.6449\n",
      "\n",
      "Epoch 00041: saving model to saved models\\Gender_Classifier_RNN.hdf5\n",
      "Epoch 42/50\n",
      "63/63 [==============================] - 9s 151ms/step - loss: 7.3094e-05 - accuracy: 1.0000 - val_loss: 4.1378 - val_accuracy: 0.6449\n",
      "\n",
      "Epoch 00042: saving model to saved models\\Gender_Classifier_RNN.hdf5\n",
      "Epoch 43/50\n",
      "63/63 [==============================] - 9s 142ms/step - loss: 2.4508e-05 - accuracy: 1.0000 - val_loss: 4.1856 - val_accuracy: 0.6449\n",
      "\n",
      "Epoch 00043: saving model to saved models\\Gender_Classifier_RNN.hdf5\n",
      "Epoch 44/50\n",
      "63/63 [==============================] - 9s 147ms/step - loss: 5.5058e-05 - accuracy: 1.0000 - val_loss: 4.2392 - val_accuracy: 0.6449\n",
      "\n",
      "Epoch 00044: saving model to saved models\\Gender_Classifier_RNN.hdf5\n",
      "Epoch 45/50\n",
      "63/63 [==============================] - 9s 150ms/step - loss: 3.6477e-05 - accuracy: 1.0000 - val_loss: 4.3088 - val_accuracy: 0.6449\n",
      "\n",
      "Epoch 00045: saving model to saved models\\Gender_Classifier_RNN.hdf5\n",
      "Epoch 46/50\n",
      "63/63 [==============================] - 9s 150ms/step - loss: 4.3825e-05 - accuracy: 1.0000 - val_loss: 4.3689 - val_accuracy: 0.6449\n",
      "\n",
      "Epoch 00046: saving model to saved models\\Gender_Classifier_RNN.hdf5\n",
      "Epoch 47/50\n",
      "63/63 [==============================] - 10s 154ms/step - loss: 3.8738e-05 - accuracy: 1.0000 - val_loss: 4.4204 - val_accuracy: 0.6449\n",
      "\n",
      "Epoch 00047: saving model to saved models\\Gender_Classifier_RNN.hdf5\n",
      "Epoch 48/50\n",
      "63/63 [==============================] - 10s 154ms/step - loss: 2.8338e-05 - accuracy: 1.0000 - val_loss: 4.4783 - val_accuracy: 0.6449\n",
      "\n",
      "Epoch 00048: saving model to saved models\\Gender_Classifier_RNN.hdf5\n",
      "Epoch 49/50\n",
      "63/63 [==============================] - 10s 160ms/step - loss: 4.3742e-05 - accuracy: 1.0000 - val_loss: 4.5261 - val_accuracy: 0.6449\n",
      "\n",
      "Epoch 00049: saving model to saved models\\Gender_Classifier_RNN.hdf5\n",
      "Epoch 50/50\n",
      "63/63 [==============================] - 10s 159ms/step - loss: 4.3532e-05 - accuracy: 1.0000 - val_loss: 4.5506 - val_accuracy: 0.6449\n",
      "\n",
      "Epoch 00050: saving model to saved models\\Gender_Classifier_RNN.hdf5\n",
      "5/5 [==============================] - 0s 71ms/step - loss: 4.5506 - accuracy: 0.6449\n",
      "Test loss: 4.5505876541137695\n",
      "Test accuracy: 0.6449275612831116\n"
     ]
    }
   ],
   "source": [
    "from tensorflow.keras.callbacks import ModelCheckpoint\n",
    "\n",
    "checkpointer = ModelCheckpoint(filepath='saved models/Gender_Classifier_RNN.hdf5', \n",
    "                               verbose=1, save_weights_only=True)\n",
    "\n",
    "model.compile(\n",
    "\toptimizer=\"Adam\",\n",
    "\tloss=\"categorical_crossentropy\",\n",
    "\tmetrics=['accuracy'])\n",
    "\n",
    "model.fit(\n",
    "\tx=X_train, \n",
    "\ty=y_train,\n",
    "    epochs=50,\n",
    "    batch_size=32,\n",
    "    callbacks=[checkpointer],\n",
    "    validation_data= (X_test, y_test))\n",
    "\n",
    "score = model.evaluate(\n",
    "\tx=X_test,\n",
    "\ty=y_test)\n",
    "\n",
    "print('Test loss:', score[0])\n",
    "print('Test accuracy:', score[1])"
   ]
  },
  {
   "cell_type": "code",
   "execution_count": 35,
   "id": "08035568",
   "metadata": {},
   "outputs": [
    {
     "name": "stdout",
     "output_type": "stream",
     "text": [
      "Epoch 1/50\n",
      "28/28 [==============================] - 7s 195ms/step - loss: 0.0100 - accuracy: 0.9965 - val_loss: 6.1981 - val_accuracy: 0.6377\n",
      "Epoch 2/50\n",
      "28/28 [==============================] - 5s 177ms/step - loss: 0.0717 - accuracy: 0.9845 - val_loss: 2.9049 - val_accuracy: 0.6159\n",
      "Epoch 3/50\n",
      "28/28 [==============================] - 6s 233ms/step - loss: 0.0146 - accuracy: 0.9965 - val_loss: 2.7484 - val_accuracy: 0.6159\n",
      "Epoch 4/50\n",
      "28/28 [==============================] - 7s 247ms/step - loss: 0.0020 - accuracy: 1.0000 - val_loss: 3.3254 - val_accuracy: 0.6449\n",
      "Epoch 5/50\n",
      "28/28 [==============================] - 7s 250ms/step - loss: 4.9008e-04 - accuracy: 1.0000 - val_loss: 3.5885 - val_accuracy: 0.6377\n",
      "Epoch 6/50\n",
      "28/28 [==============================] - 7s 251ms/step - loss: 2.0501e-04 - accuracy: 1.0000 - val_loss: 3.7490 - val_accuracy: 0.6377\n",
      "Epoch 7/50\n",
      "28/28 [==============================] - 7s 247ms/step - loss: 1.1105e-04 - accuracy: 1.0000 - val_loss: 3.8913 - val_accuracy: 0.6377\n",
      "Epoch 8/50\n",
      "28/28 [==============================] - 7s 253ms/step - loss: 1.1759e-04 - accuracy: 1.0000 - val_loss: 4.0243 - val_accuracy: 0.6377\n",
      "Epoch 9/50\n",
      "28/28 [==============================] - 7s 248ms/step - loss: 9.2187e-05 - accuracy: 1.0000 - val_loss: 4.1348 - val_accuracy: 0.6304\n",
      "Epoch 10/50\n",
      "28/28 [==============================] - 7s 253ms/step - loss: 1.0571e-04 - accuracy: 1.0000 - val_loss: 4.2411 - val_accuracy: 0.6304\n",
      "Epoch 11/50\n",
      "28/28 [==============================] - 7s 246ms/step - loss: 7.6717e-05 - accuracy: 1.0000 - val_loss: 4.3418 - val_accuracy: 0.6304\n",
      "Epoch 12/50\n",
      "28/28 [==============================] - 7s 252ms/step - loss: 5.1193e-05 - accuracy: 1.0000 - val_loss: 4.4397 - val_accuracy: 0.6377\n",
      "Epoch 13/50\n",
      "28/28 [==============================] - 7s 256ms/step - loss: 4.2756e-05 - accuracy: 1.0000 - val_loss: 4.5150 - val_accuracy: 0.6449\n",
      "Epoch 14/50\n",
      "28/28 [==============================] - 7s 257ms/step - loss: 4.8629e-05 - accuracy: 1.0000 - val_loss: 4.5880 - val_accuracy: 0.6449\n",
      "Epoch 15/50\n",
      "28/28 [==============================] - 7s 255ms/step - loss: 4.6387e-05 - accuracy: 1.0000 - val_loss: 4.6964 - val_accuracy: 0.6377\n",
      "Epoch 16/50\n",
      "28/28 [==============================] - 7s 251ms/step - loss: 2.4414e-05 - accuracy: 1.0000 - val_loss: 4.7760 - val_accuracy: 0.6377\n",
      "Epoch 17/50\n",
      "28/28 [==============================] - 8s 271ms/step - loss: 1.5561e-05 - accuracy: 1.0000 - val_loss: 4.8260 - val_accuracy: 0.6377\n",
      "Epoch 18/50\n",
      "28/28 [==============================] - 7s 260ms/step - loss: 3.2495e-05 - accuracy: 1.0000 - val_loss: 4.8826 - val_accuracy: 0.6377\n",
      "Epoch 19/50\n",
      "28/28 [==============================] - 7s 264ms/step - loss: 1.3485e-05 - accuracy: 1.0000 - val_loss: 4.9275 - val_accuracy: 0.6377\n",
      "Epoch 20/50\n",
      "28/28 [==============================] - 7s 260ms/step - loss: 1.1048e-05 - accuracy: 1.0000 - val_loss: 4.9543 - val_accuracy: 0.6304\n",
      "Epoch 21/50\n",
      "28/28 [==============================] - 8s 269ms/step - loss: 1.7799e-05 - accuracy: 1.0000 - val_loss: 4.9998 - val_accuracy: 0.6304\n",
      "Epoch 22/50\n",
      "28/28 [==============================] - 7s 263ms/step - loss: 1.0662e-05 - accuracy: 1.0000 - val_loss: 5.0557 - val_accuracy: 0.6232\n",
      "Epoch 23/50\n",
      "28/28 [==============================] - 8s 273ms/step - loss: 1.8851e-05 - accuracy: 1.0000 - val_loss: 5.1275 - val_accuracy: 0.6304\n",
      "Epoch 24/50\n",
      "28/28 [==============================] - 7s 268ms/step - loss: 1.7234e-05 - accuracy: 1.0000 - val_loss: 5.1882 - val_accuracy: 0.6304\n",
      "Epoch 25/50\n",
      "28/28 [==============================] - 8s 275ms/step - loss: 1.6399e-05 - accuracy: 1.0000 - val_loss: 5.2428 - val_accuracy: 0.6232\n",
      "Epoch 26/50\n",
      "28/28 [==============================] - 8s 273ms/step - loss: 1.3268e-05 - accuracy: 1.0000 - val_loss: 5.3022 - val_accuracy: 0.6232\n",
      "Epoch 27/50\n",
      "28/28 [==============================] - 8s 275ms/step - loss: 9.7161e-06 - accuracy: 1.0000 - val_loss: 5.3485 - val_accuracy: 0.6232\n",
      "Epoch 28/50\n",
      "28/28 [==============================] - 8s 280ms/step - loss: 9.4388e-06 - accuracy: 1.0000 - val_loss: 5.3842 - val_accuracy: 0.6232\n",
      "Epoch 29/50\n",
      "28/28 [==============================] - 8s 282ms/step - loss: 2.0568e-05 - accuracy: 1.0000 - val_loss: 5.4309 - val_accuracy: 0.6232\n",
      "Epoch 30/50\n",
      "28/28 [==============================] - 8s 286ms/step - loss: 7.8776e-06 - accuracy: 1.0000 - val_loss: 5.4785 - val_accuracy: 0.6304\n",
      "Epoch 31/50\n",
      "28/28 [==============================] - 9s 307ms/step - loss: 7.3799e-06 - accuracy: 1.0000 - val_loss: 5.5180 - val_accuracy: 0.6232\n",
      "Epoch 32/50\n",
      "28/28 [==============================] - 9s 317ms/step - loss: 6.3452e-06 - accuracy: 1.0000 - val_loss: 5.5636 - val_accuracy: 0.6232\n",
      "Epoch 33/50\n",
      "28/28 [==============================] - 9s 330ms/step - loss: 1.2417e-05 - accuracy: 1.0000 - val_loss: 5.6063 - val_accuracy: 0.6232\n",
      "Epoch 34/50\n",
      "28/28 [==============================] - 9s 317ms/step - loss: 1.6362e-05 - accuracy: 1.0000 - val_loss: 5.6644 - val_accuracy: 0.6232\n",
      "Epoch 35/50\n",
      "28/28 [==============================] - 9s 329ms/step - loss: 4.9771e-06 - accuracy: 1.0000 - val_loss: 5.7488 - val_accuracy: 0.6232\n",
      "Epoch 36/50\n",
      "28/28 [==============================] - 9s 326ms/step - loss: 7.1609e-06 - accuracy: 1.0000 - val_loss: 5.8176 - val_accuracy: 0.6232\n",
      "Epoch 37/50\n",
      "28/28 [==============================] - 11s 400ms/step - loss: 5.8470e-06 - accuracy: 1.0000 - val_loss: 5.8759 - val_accuracy: 0.6232\n",
      "Epoch 38/50\n",
      "28/28 [==============================] - 11s 405ms/step - loss: 4.5798e-06 - accuracy: 1.0000 - val_loss: 5.9148 - val_accuracy: 0.6232\n",
      "Epoch 39/50\n",
      "28/28 [==============================] - 11s 376ms/step - loss: 3.9863e-06 - accuracy: 1.0000 - val_loss: 5.9478 - val_accuracy: 0.6232\n",
      "Epoch 40/50\n",
      "28/28 [==============================] - 9s 326ms/step - loss: 1.0334e-05 - accuracy: 1.0000 - val_loss: 6.0173 - val_accuracy: 0.6232\n",
      "Epoch 41/50\n",
      "28/28 [==============================] - 9s 319ms/step - loss: 6.6125e-06 - accuracy: 1.0000 - val_loss: 6.0703 - val_accuracy: 0.6232\n",
      "Epoch 42/50\n",
      "28/28 [==============================] - 9s 323ms/step - loss: 2.7866e-06 - accuracy: 1.0000 - val_loss: 6.1197 - val_accuracy: 0.6232\n",
      "Epoch 43/50\n",
      "28/28 [==============================] - 9s 324ms/step - loss: 3.5117e-06 - accuracy: 1.0000 - val_loss: 6.1512 - val_accuracy: 0.6232\n",
      "Epoch 44/50\n",
      "28/28 [==============================] - 9s 314ms/step - loss: 1.8536e-06 - accuracy: 1.0000 - val_loss: 6.1819 - val_accuracy: 0.6232\n",
      "Epoch 45/50\n",
      "28/28 [==============================] - 9s 325ms/step - loss: 9.9525e-07 - accuracy: 1.0000 - val_loss: 6.1982 - val_accuracy: 0.6232\n",
      "Epoch 46/50\n",
      "28/28 [==============================] - 10s 359ms/step - loss: 2.8884e-06 - accuracy: 1.0000 - val_loss: 6.2222 - val_accuracy: 0.6232\n",
      "Epoch 47/50\n",
      "28/28 [==============================] - 10s 341ms/step - loss: 5.5470e-06 - accuracy: 1.0000 - val_loss: 6.2562 - val_accuracy: 0.6232\n",
      "Epoch 48/50\n",
      "28/28 [==============================] - 9s 330ms/step - loss: 2.3464e-06 - accuracy: 1.0000 - val_loss: 6.2777 - val_accuracy: 0.6232\n",
      "Epoch 49/50\n",
      "28/28 [==============================] - 9s 339ms/step - loss: 1.3254e-05 - accuracy: 1.0000 - val_loss: 6.3476 - val_accuracy: 0.6232\n",
      "Epoch 50/50\n",
      "28/28 [==============================] - 9s 323ms/step - loss: 1.2904e-05 - accuracy: 1.0000 - val_loss: 6.4094 - val_accuracy: 0.6232\n"
     ]
    }
   ],
   "source": [
    "model.compile(loss='categorical_crossentropy',metrics=['accuracy'],optimizer='adam')\n",
    "history = model.fit(X_train, y_train, epochs=50, batch_size=72, validation_data=(X_test, y_test), shuffle=False)"
   ]
  },
  {
   "cell_type": "code",
   "execution_count": 38,
   "id": "9cfb2955",
   "metadata": {},
   "outputs": [
    {
     "data": {
      "image/png": "[encoded data removed]",
      "text/plain": [
       "<Figure size 1080x360 with 2 Axes>"
      ]
     },
     "metadata": {
      "needs_background": "light"
     },
     "output_type": "display_data"
    }
   ],
   "source": [
    "#Adapted from Deep Learning with Python by Francois Chollet, 2018\n",
    "history_dict=history.history\n",
    "loss_values=history_dict['loss']\n",
    "acc_values=history_dict['accuracy']\n",
    "val_loss_values = history_dict['val_loss']\n",
    "val_acc_values=history_dict['val_accuracy']\n",
    "epochs=range(1,51)\n",
    "fig,(ax1,ax2)=plt.subplots(1,2,figsize=(15,5))\n",
    "ax1.plot(epochs,loss_values,'co',label='Training Loss')\n",
    "ax1.plot(epochs,val_loss_values,'m', label='Validation Loss')\n",
    "ax1.set_title('Training and validation loss')\n",
    "ax1.set_xlabel('Epochs')\n",
    "ax1.set_ylabel('Loss')\n",
    "ax1.legend()\n",
    "ax2.plot(epochs,acc_values,'co', label='Training accuracy')\n",
    "ax2.plot(epochs,val_acc_values,'m',label='Validation accuracy')\n",
    "ax2.set_title('Training and validation accuracy')\n",
    "ax2.set_xlabel('Epochs')\n",
    "ax2.set_ylabel('Accuracy')\n",
    "ax2.legend()\n",
    "plt.show()"
   ]
  },
  {
   "cell_type": "code",
   "execution_count": 39,
   "id": "e5c125ea",
   "metadata": {},
   "outputs": [
    {
     "data": {
      "text/plain": [
       "array([1, 0, 1, 0, 0, 0, 0, 0, 1, 1, 1, 1, 0, 1, 1, 0, 0, 0, 0, 0, 0, 1,\n",
       "       1, 0, 0, 0, 1, 0, 0, 0, 0, 0, 1, 1, 1, 0, 1, 0, 1, 0, 0, 1, 1, 0,\n",
       "       1, 0, 1, 1, 1, 0, 0, 0, 1, 1, 1, 1, 1, 0, 1, 1, 0, 0, 1, 1, 1, 1,\n",
       "       1, 0, 1, 1, 1, 0, 0, 0, 0, 1, 0, 1, 0, 1, 0, 0, 0, 1, 0, 0, 0, 1,\n",
       "       0, 1, 1, 0, 1, 1, 1, 0, 0, 0, 0, 0, 1, 1, 1, 1, 1, 0, 1, 1, 1, 1,\n",
       "       0, 1, 1, 0, 0, 1, 1, 0, 0, 1, 1, 1, 0, 0, 1, 0, 0, 1, 0, 0, 0, 0,\n",
       "       1, 0, 1, 0, 1, 1], dtype=int64)"
      ]
     },
     "execution_count": 39,
     "metadata": {},
     "output_type": "execute_result"
    }
   ],
   "source": [
    "model.predict_classes(X_test)"
   ]
  },
  {
   "cell_type": "code",
   "execution_count": 41,
   "id": "5ba74b4b",
   "metadata": {},
   "outputs": [
    {
     "data": {
      "text/plain": [
       "array(['female'], dtype='<U6')"
      ]
     },
     "execution_count": 41,
     "metadata": {},
     "output_type": "execute_result"
    }
   ],
   "source": [
    "file_name = \"recordings/recordings/english381.mp3\"\n",
    "y, sr = librosa.load(file_name, duration=10.0)  \n",
    "ps = librosa.feature.melspectrogram(y=y, sr=sr)\n",
    "d=[]\n",
    "d.append( (ps, \"null\") )\n",
    "\n",
    "x, y = zip(*d)\n",
    "x = np.array(x)\n",
    "\n",
    "predict = model.predict_classes(x)\n",
    "prediction_class = labelencoder.inverse_transform(predict)\n",
    "prediction_class"
   ]
  },
  {
   "cell_type": "code",
   "execution_count": null,
   "id": "760b6cc7",
   "metadata": {},
   "outputs": [],
   "source": []
  }
 ],
 "metadata": {
  "kernelspec": {
   "display_name": "Python 3",
   "language": "python",
   "name": "python3"
  },
  "language_info": {
   "codemirror_mode": {
    "name": "ipython",
    "version": 3
   },
   "file_extension": ".py",
   "mimetype": "text/x-python",
   "name": "python",
   "nbconvert_exporter": "python",
   "pygments_lexer": "ipython3",
   "version": "3.8.8"
  }
 },
 "nbformat": 4,
 "nbformat_minor": 5
}
